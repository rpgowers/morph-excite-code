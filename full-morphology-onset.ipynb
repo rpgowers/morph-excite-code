{
 "cells": [
  {
   "cell_type": "code",
   "execution_count": 1,
   "id": "55b39532-c7ff-4f92-a9e2-d2873795f16b",
   "metadata": {},
   "outputs": [],
   "source": [
    "from pymodules import sim_functions as sf\n",
    "from pymodules.sim_functions import b2\n",
    "import time\n",
    "import json\n",
    "from pymodules.ML_params import *"
   ]
  },
  {
   "cell_type": "code",
   "execution_count": 2,
   "id": "00aa613c-1980-45a3-9644-cbcfac681eca",
   "metadata": {},
   "outputs": [],
   "source": [
    "cell = \"NMO_00892\""
   ]
  },
  {
   "cell_type": "code",
   "execution_count": 3,
   "id": "2ed187f8-95fb-4dc4-a893-f3494b01bac4",
   "metadata": {},
   "outputs": [],
   "source": [
    "morph_soma = b2.spatialneuron.morphology.Morphology.from_swc_file(f\"morphs/{cell}_somas.swc\", spherical_soma=True)"
   ]
  },
  {
   "cell_type": "code",
   "execution_count": 4,
   "id": "fcf25954-6d69-48e2-b9e0-b40316569bfb",
   "metadata": {},
   "outputs": [],
   "source": [
    "morph_d8 = b2.spatialneuron.morphology.Morphology.from_swc_file(f\"morphs/{cell}_depth8.swc\", spherical_soma=True)\n",
    "morph_d13 = b2.spatialneuron.morphology.Morphology.from_swc_file(f\"morphs/{cell}_depth13.swc\", spherical_soma=True)\n",
    "morph_d14 = b2.spatialneuron.morphology.Morphology.from_swc_file(f\"morphs/{cell}_depth14.swc\", spherical_soma=True)\n",
    "morph_full = b2.spatialneuron.morphology.Morphology.from_swc_file(f\"morphs/{cell}_full.swc\", spherical_soma=True)"
   ]
  },
  {
   "cell_type": "code",
   "execution_count": 5,
   "id": "c1b44976-17a1-4041-b319-7dea3666af80",
   "metadata": {},
   "outputs": [],
   "source": [
    "α = 4.5 # scaling factor for the soma\n",
    "β = 1.0 # scaling factor for the dendrites\n",
    "morphs = [morph_d8, morph_d13, morph_d14, morph_full]"
   ]
  },
  {
   "cell_type": "code",
   "execution_count": 6,
   "id": "c46cc145-3a62-457b-81b8-19fcac285bd4",
   "metadata": {},
   "outputs": [],
   "source": [
    "neuron_soma = b2.SpatialNeuron(morphology=morph_soma, model=eqs, Cm=α*Cm, Ri=250*b2.ohm*b2.cm, method='exponential_euler')"
   ]
  },
  {
   "cell_type": "code",
   "execution_count": 7,
   "id": "6e827bc6-9ffe-45f8-a9fa-423944456909",
   "metadata": {},
   "outputs": [],
   "source": [
    "len_σ = len(neuron_soma)"
   ]
  },
  {
   "cell_type": "code",
   "execution_count": 8,
   "id": "30a9072e-8e28-416c-8513-a35afd281529",
   "metadata": {},
   "outputs": [],
   "source": [
    "Iout = b2.zeros(len(morphs))\n",
    "rout = b2.zeros(len(morphs))"
   ]
  },
  {
   "cell_type": "code",
   "execution_count": 9,
   "id": "a5882885-ccb8-4d28-b9b4-d904cac04497",
   "metadata": {},
   "outputs": [],
   "source": [
    "Ibound_set = [[0.10,0.30]*b2.nA, [0.30,0.35]*b2.nA, [0.35,0.40]*b2.nA, [0.45,0.50]*b2.nA]"
   ]
  },
  {
   "cell_type": "code",
   "execution_count": 10,
   "id": "bd6c632f-de4c-44a1-951e-252b996ca4cc",
   "metadata": {},
   "outputs": [],
   "source": [
    "rfind = 1.0*b2.Hz\n",
    "cutoff = 10000"
   ]
  },
  {
   "cell_type": "code",
   "execution_count": 11,
   "id": "a8eadc8e-9dde-48b9-be1a-4fba2289048e",
   "metadata": {},
   "outputs": [
    {
     "name": "stdout",
     "output_type": "stream",
     "text": [
      "35.17465732200071\n",
      "160.3628649500024\n",
      "185.9977856609985\n",
      "244.1271127439977\n"
     ]
    }
   ],
   "source": [
    "for i,j in enumerate(morphs):\n",
    "  neuron_d = b2.SpatialNeuron(morphology=morphs[i], model=eqs, Cm=α*Cm, Ri=250*b2.ohm*b2.cm, method='exponential_euler')\n",
    "  neuron_d[0:len_σ].gL = α*gL0\n",
    "  neuron_d[len_σ::].gL = β*gL0\n",
    "  neuron_d.EL = EL0\n",
    "  neuron_d.Cm[len_σ::] = 0.25*β*Cm\n",
    "  \n",
    "  neuron_d[0:len_σ].gf = α*gf0\n",
    "  neuron_d[0:len_σ].gs = α*gs0; # make only the soma active\n",
    "  \n",
    "  tic = time.perf_counter()\n",
    "  Iout[i], rout[i] = sf.findrate(neuron_d, Ibound_set[i], cutoff, 11000*b2.ms, rfind, vmh = -10.0, Nmax=15, ϵr = 0.02, v0=-10.0*b2.mV, ϵisi=10)\n",
    "  toc = time.perf_counter()\n",
    "  print(toc-tic)"
   ]
  },
  {
   "cell_type": "code",
   "execution_count": 12,
   "id": "d3dabfa7-4e13-43ff-96d1-5ccc6701f572",
   "metadata": {},
   "outputs": [
    {
     "data": {
      "text/plain": [
       "array([1.70312500e-10, 3.36196899e-10, 3.80285645e-10, 4.81036377e-10])"
      ]
     },
     "execution_count": 12,
     "metadata": {},
     "output_type": "execute_result"
    }
   ],
   "source": [
    "Iout"
   ]
  },
  {
   "cell_type": "code",
   "execution_count": 13,
   "id": "30ba3802-ff14-4e33-8aa8-33db8e8c01ce",
   "metadata": {},
   "outputs": [
    {
     "data": {
      "text/plain": [
       "array([1.00001  , 1.00001  , 1.700017 , 5.8500585])"
      ]
     },
     "execution_count": 13,
     "metadata": {},
     "output_type": "execute_result"
    }
   ],
   "source": [
    "rout"
   ]
  },
  {
   "cell_type": "code",
   "execution_count": 14,
   "id": "bff13a4b-8355-4465-9963-9d7267d53366",
   "metadata": {},
   "outputs": [],
   "source": [
    "jdict = {\"Ion\": Iout.tolist(), \"ron\" : rout.tolist()}\n",
    "with open(f\"data/{cell}_morph_onset.json\", \"w\") as json_file:\n",
    "    json.dump(jdict, json_file)"
   ]
  },
  {
   "cell_type": "code",
   "execution_count": null,
   "id": "fd4b94c5-309c-4ecc-90f4-5428a89c3d8a",
   "metadata": {},
   "outputs": [],
   "source": []
  }
 ],
 "metadata": {
  "kernelspec": {
   "display_name": "Python 3 (ipykernel)",
   "language": "python",
   "name": "python3"
  },
  "language_info": {
   "codemirror_mode": {
    "name": "ipython",
    "version": 3
   },
   "file_extension": ".py",
   "mimetype": "text/x-python",
   "name": "python",
   "nbconvert_exporter": "python",
   "pygments_lexer": "ipython3",
   "version": "3.10.8"
  }
 },
 "nbformat": 4,
 "nbformat_minor": 5
}
