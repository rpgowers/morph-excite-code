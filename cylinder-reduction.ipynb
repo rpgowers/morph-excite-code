{
 "cells": [
  {
   "cell_type": "code",
   "execution_count": 30,
   "id": "ca0ab477",
   "metadata": {},
   "outputs": [],
   "source": [
    "from pymodules import sim_functions as sf\n",
    "from pymodules.sim_functions import b2\n",
    "import time\n",
    "import json\n",
    "from pymodules.ML_params import *"
   ]
  },
  {
   "cell_type": "code",
   "execution_count": 14,
   "id": "5b40c47c",
   "metadata": {},
   "outputs": [],
   "source": [
    "cell = \"NMO_00892\""
   ]
  },
  {
   "cell_type": "code",
   "execution_count": 15,
   "id": "a69df9b1",
   "metadata": {},
   "outputs": [],
   "source": [
    "morph_d8 = b2.spatialneuron.morphology.Morphology.from_swc_file(f\"morphs/{cell}_depth8.swc\", spherical_soma=True)\n",
    "morph_d13 = b2.spatialneuron.morphology.Morphology.from_swc_file(f\"morphs/{cell}_depth13.swc\", spherical_soma=True)\n",
    "morph_d14 = b2.spatialneuron.morphology.Morphology.from_swc_file(f\"morphs/{cell}_depth14.swc\", spherical_soma=True)\n",
    "morph_full = b2.spatialneuron.morphology.Morphology.from_swc_file(f\"morphs/{cell}_full.swc\", spherical_soma=True)"
   ]
  },
  {
   "cell_type": "code",
   "execution_count": 16,
   "id": "3f2215f0",
   "metadata": {},
   "outputs": [],
   "source": [
    "depths = [\"depth8\", \"depth13\", \"depth14\", \"full\"]"
   ]
  },
  {
   "cell_type": "code",
   "execution_count": 17,
   "id": "a4e752dc",
   "metadata": {},
   "outputs": [],
   "source": [
    "morph_soma = b2.spatialneuron.morphology.Morphology.from_swc_file(f\"morphs/{cell}_somas.swc\", spherical_soma=True)"
   ]
  },
  {
   "cell_type": "code",
   "execution_count": 18,
   "id": "60a9aa39",
   "metadata": {},
   "outputs": [],
   "source": [
    "α = 4.5 # scaling factor for the soma\n",
    "β = 1.0 # scaling factor for the dendrites"
   ]
  },
  {
   "cell_type": "code",
   "execution_count": 19,
   "id": "cb491312",
   "metadata": {},
   "outputs": [],
   "source": [
    "neuron_soma = b2.SpatialNeuron(morphology=morph_soma, model=eqs, Cm=α*Cm, Ri=250*b2.ohm*b2.cm, method='exponential_euler')"
   ]
  },
  {
   "cell_type": "code",
   "execution_count": 20,
   "id": "42fd0e85",
   "metadata": {},
   "outputs": [
    {
     "name": "stdout",
     "output_type": "stream",
     "text": [
      "Starting simulation at t=0. s for a duration of 0.5 s\n",
      "0.5 s (100%) simulated in < 1s\n",
      "5.05465572 nS\n"
     ]
    }
   ],
   "source": [
    "neuron_soma.gL = α*gL0\n",
    "neuron_soma.EL = EL0\n",
    "Iin = 0.1*b2.nA\n",
    "tmax = 500*b2.ms\n",
    "v0 = EL0\n",
    "gσ = sf.gin(neuron_soma, Iin, v0, tmax)\n",
    "print(gσ)"
   ]
  },
  {
   "cell_type": "code",
   "execution_count": 21,
   "id": "4ca904c7",
   "metadata": {},
   "outputs": [
    {
     "name": "stdout",
     "output_type": "stream",
     "text": [
      "36\n"
     ]
    }
   ],
   "source": [
    "len_σ = len(neuron_soma)\n",
    "print(len_σ)"
   ]
  },
  {
   "cell_type": "code",
   "execution_count": 22,
   "id": "9d67750b",
   "metadata": {},
   "outputs": [],
   "source": [
    "def gin_depths(morph_set, len_σ, gσ):\n",
    "    gin = b2.zeros(len(morph_set))*b2.siemens\n",
    "    \n",
    "    ρ = b2.zeros(len(morph_set))\n",
    "    l = b2.zeros(len(morph_set))\n",
    "    d = b2.zeros(len(morph_set))*b2.um\n",
    "    Iin = 0.1*b2.nA\n",
    "    tmax = 500*b2.ms\n",
    "    v0 = EL0\n",
    "    for i,j in enumerate(morph_set):\n",
    "        neuron = b2.SpatialNeuron(morphology=morph_set[i], model=eqs, Cm=α*Cm, Ri=250*b2.ohm*b2.cm, method='exponential_euler')\n",
    "        neuron[0:len_σ].gL = α*gL0\n",
    "        neuron[len_σ::].gL = β*gL0\n",
    "        neuron.EL = EL0\n",
    "        neuron.Cm[len_σ::] = 0.25*β*Cm # this makes the dendritic time constant τδ = 2.5 ms\n",
    "        \n",
    "        gin[i] = sf.gin(neuron, Iin, v0, tmax)\n",
    "        Z0, ZL = sf.Z0L(neuron, Iin, v0, tmax)\n",
    "\n",
    "        l[i] = sf.ct.l_equiv(Z0, ZL)\n",
    "        d[i] = sf.ct.d_equiv(Z0, 250*b2.ohm*b2.cm, gL0, l[i])\n",
    "        ρ[i] = (gin[i]-gσ)/gσ\n",
    "\n",
    "    return gin, ρ, l, d"
   ]
  },
  {
   "cell_type": "code",
   "execution_count": 23,
   "id": "581486f7",
   "metadata": {},
   "outputs": [
    {
     "name": "stdout",
     "output_type": "stream",
     "text": [
      "Starting simulation at t=0. s for a duration of 0.5 s\n",
      "0.5 s (100%) simulated in < 1s\n",
      "Starting simulation at t=0.5 s for a duration of 0.5 s\n",
      "0.5 s (100%) simulated in < 1s\n",
      "Starting simulation at t=0. s for a duration of 0.5 s\n",
      "0.5 s (100%) simulated in < 1s\n",
      "Starting simulation at t=0.5 s for a duration of 0.5 s\n",
      "0.5 s (100%) simulated in < 1s\n",
      "Starting simulation at t=0. s for a duration of 0.5 s\n",
      "0.5 s (100%) simulated in < 1s\n",
      "Starting simulation at t=0.5 s for a duration of 0.5 s\n",
      "0.5 s (100%) simulated in < 1s\n",
      "Starting simulation at t=0. s for a duration of 0.5 s\n",
      "0.5 s (100%) simulated in < 1s\n",
      "Starting simulation at t=0.5 s for a duration of 0.5 s\n",
      "0.5 s (100%) simulated in < 1s\n"
     ]
    }
   ],
   "source": [
    "gset, ρset, lset, dset = gin_depths([morph_d8, morph_d13, morph_d14, morph_full], len_σ, gσ)"
   ]
  },
  {
   "cell_type": "code",
   "execution_count": 24,
   "id": "809fd62c",
   "metadata": {},
   "outputs": [
    {
     "data": {
      "text/plain": [
       "array([0.42352295, 1.28093027, 1.48602477, 1.92785077])"
      ]
     },
     "execution_count": 24,
     "metadata": {},
     "output_type": "execute_result"
    }
   ],
   "source": [
    "ρset"
   ]
  },
  {
   "cell_type": "code",
   "execution_count": 26,
   "id": "856b3783",
   "metadata": {},
   "outputs": [
    {
     "data": {
      "text/plain": [
       "array([0.27316844, 0.52186288, 0.58906686, 0.75972089])"
      ]
     },
     "execution_count": 26,
     "metadata": {},
     "output_type": "execute_result"
    }
   ],
   "source": [
    "lset"
   ]
  },
  {
   "cell_type": "code",
   "execution_count": 27,
   "id": "25d89b24",
   "metadata": {},
   "outputs": [
    {
     "data": {
      "text/latex": [
       "$\\left[\\begin{matrix}11.38691164 & 10.54725957 & 10.45398011 & 10.26135203\\end{matrix}\\right]\\,\\mathrm{\\mu}\\mathrm{m}$"
      ],
      "text/plain": [
       "array([11.38691164, 10.54725957, 10.45398011, 10.26135203]) * umetre"
      ]
     },
     "execution_count": 27,
     "metadata": {},
     "output_type": "execute_result"
    }
   ],
   "source": [
    "dset"
   ]
  },
  {
   "cell_type": "code",
   "execution_count": 28,
   "id": "6882a202",
   "metadata": {},
   "outputs": [],
   "source": [
    "jdict = {\"depths\": depths, \"gs\": gσ/b2.nS, \"rhoinf\": ρset.tolist(), \"leff\": lset.tolist(), \"deff\": (dset/b2.um).tolist()} "
   ]
  },
  {
   "cell_type": "code",
   "execution_count": 31,
   "id": "10ec7992",
   "metadata": {},
   "outputs": [],
   "source": [
    "with open(f\"data/{cell}_cylinder_parameters.json\", \"w\") as json_file:\n",
    "    json.dump(jdict, json_file)"
   ]
  },
  {
   "cell_type": "code",
   "execution_count": null,
   "id": "9807727d",
   "metadata": {},
   "outputs": [],
   "source": []
  }
 ],
 "metadata": {
  "kernelspec": {
   "display_name": "Python 3 (ipykernel)",
   "language": "python",
   "name": "python3"
  },
  "language_info": {
   "codemirror_mode": {
    "name": "ipython",
    "version": 3
   },
   "file_extension": ".py",
   "mimetype": "text/x-python",
   "name": "python",
   "nbconvert_exporter": "python",
   "pygments_lexer": "ipython3",
   "version": "3.10.8"
  }
 },
 "nbformat": 4,
 "nbformat_minor": 5
}
